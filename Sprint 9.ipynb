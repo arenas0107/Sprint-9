{
 "cells": [
  {
   "cell_type": "markdown",
   "metadata": {},
   "source": [
    "\n",
    "**Comentario del Revisor**\n",
    "\n",
    "Hola!\n",
    "\n",
    "Soy Juan Manuel Romero, pero siéntete libre de llamarme Juanma. Soy code reviewer en Tripleten y hoy estaré revisando tu entrega.\n",
    "\n",
    "Para simular la dinámica de un ambiente de trabajo, si veo algún error, en primer instancia solo los señalaré, dándote la oportunidad de encontrarlos y corregirlos por tu cuenta. En un trabajo real, el líder de tu equipo hará una dinámica similar. En caso de que no puedas resolver la tarea, te daré una información más precisa en la próxima revisión. \n",
    "\n",
    "Solo un aviso rápido: cuando estés revisando el proyecto, por favor deja mis comentarios originales tal como están. De esta manera, podemos seguir fácilmente el progreso y asegurarnos de que no se nos pase nada por alto. Y, si realizas algún cambio basado en mis comentarios, sería genial si pudieras resaltar esas actualizaciones para que se destaquen.\n",
    "\n",
    "Puedes encontrar mis comentarios en cajas verdes, amarillas o rojas como estas:\n",
    "\n",
    "<div class=\"alert alert-block alert-success\"> \n",
    "<b>Comentario del Revisor</b> <a class=\"tocSkip\"></a>\n",
    "\n",
    "Éxito. Todo se ha hecho correctamente.\n",
    "\n",
    "</div>\n",
    "\n",
    "\n",
    "<div class=\"alert alert-block alert-warning\"> \n",
    "<b>Comentario del Revisor</b> <a class=\"tocSkip\"></a>\n",
    "\n",
    "Observaciones. Algunas recomendaciones.\n",
    "\n",
    "</div> \n",
    "\n",
    "\n",
    "<div class=\"alert alert-block alert-danger\">\n",
    "<b>Comentario del Revisor</b> <a class=\"tocSkip\"></a>\n",
    "\n",
    "Requiere corrección. El bloque requiere algunas correcciones. El trabajo no puede ser aceptado con los comentarios en rojo.\n",
    "\n",
    "</div>\n",
    "\n",
    "Puedes responderme usando esto:\n",
    "\n",
    "<div class=\"alert alert-block alert-info\"> <b>Respuesta del estudiante.</b> <a class=\"tocSkip\"></a> </div>"
   ]
  },
  {
   "cell_type": "markdown",
   "metadata": {},
   "source": [
    "<h3 class=\"prism-markdown__heading\">Instrucciones del proyecto.</h3>\n",
    "<ol class=\"prism-markdown__list prism-markdown__list_type_ordered\" start=\"1\">\n",
    "<li>Abre y examina el archivo de datos. Direcci&oacute;n al archivo:<code class=\"prism-markdown__code-inline\">datasets/users_behavior.csv</code>&nbsp;</li>\n",
    "<li>Segmenta los datos fuente en un conjunto de entrenamiento, uno de validaci&oacute;n y uno de prueba.</li>\n",
    "<li>Investiga la calidad de diferentes modelos cambiando los hiperpar&aacute;metros. Describe brevemente los hallazgos del estudio.</li>\n",
    "<li>Comprueba la calidad del modelo usando el conjunto de prueba.</li>\n",
    "<li>Tarea adicional: haz una prueba de cordura al modelo. Estos datos son m&aacute;s complejos que los que hab&iacute;as usado antes as&iacute; que no ser&aacute; una tarea f&aacute;cil. M&aacute;s adelante lo veremos con m&aacute;s detalle.</li>\n",
    "</ol>"
   ]
  },
  {
   "cell_type": "markdown",
   "metadata": {},
   "source": [
    "<h3 class=\"prism-markdown__heading\">vamos a cargar los datos del archivo <code data-code-tools=\"\">users_behavior.csv</code></h3>"
   ]
  },
  {
   "cell_type": "code",
   "execution_count": 43,
   "metadata": {},
   "outputs": [
    {
     "name": "stdout",
     "output_type": "stream",
     "text": [
      "Primeras filas del dataset:\n",
      "   calls  minutes  messages   mb_used  is_ultra\n",
      "0   40.0   311.90      83.0  19915.42         0\n",
      "1   85.0   516.75      56.0  22696.96         0\n",
      "2   77.0   467.66      86.0  21060.45         0\n",
      "3  106.0   745.53      81.0   8437.39         1\n",
      "4   66.0   418.74       1.0  14502.75         0\n",
      "\n",
      "Información del dataset:\n",
      "<class 'pandas.core.frame.DataFrame'>\n",
      "RangeIndex: 3214 entries, 0 to 3213\n",
      "Data columns (total 5 columns):\n",
      " #   Column    Non-Null Count  Dtype  \n",
      "---  ------    --------------  -----  \n",
      " 0   calls     3214 non-null   float64\n",
      " 1   minutes   3214 non-null   float64\n",
      " 2   messages  3214 non-null   float64\n",
      " 3   mb_used   3214 non-null   float64\n",
      " 4   is_ultra  3214 non-null   int64  \n",
      "dtypes: float64(4), int64(1)\n",
      "memory usage: 125.7 KB\n",
      "None\n"
     ]
    }
   ],
   "source": [
    "import pandas as pd\n",
    "\n",
    "# Cargar el dataset\n",
    "df = pd.read_csv('/datasets/users_behavior.csv')\n",
    "\n",
    "# Mostrar las primeras filas del dataset\n",
    "print(\"Primeras filas del dataset:\")\n",
    "print(df.head())\n",
    "\n",
    "# Información general sobre el dataset\n",
    "print(\"\\nInformación del dataset:\")\n",
    "print(df.info())"
   ]
  },
  {
   "cell_type": "markdown",
   "metadata": {},
   "source": [
    "<div class=\"alert alert-block alert-success\"> \n",
    "<b>Comentario del Revisor #1</b> <a class=\"tocSkip\"></a>\n",
    "\n",
    "Buen trabajo! Has utilizado métodos como _info()_, _head()_ o _describe()_ para analizar los datos. Estos métodos te permiten entender la estructura de los datos, los tipos de variables, la presencia de valores faltantes y obtener una descripción estadística general.\n",
    "\n",
    "</div>"
   ]
  },
  {
   "cell_type": "markdown",
   "metadata": {},
   "source": [
    "<h3>Paso 2: Segmentar los Datos</h3>\n",
    "<p>Vamos a dividir los datos en tres conjuntos: entrenamiento, validaci&oacute;n y prueba</p>"
   ]
  },
  {
   "cell_type": "markdown",
   "metadata": {},
   "source": [
    "<div class=\"alert alert-block alert-warning\"> \n",
    "<b>Comentario del Revisor #1</b> <a class=\"tocSkip\"></a>\n",
    "\n",
    "Las librerías se deben importar una única vez, al comienzo del proyecto\n",
    "\n",
    "</div>"
   ]
  },
  {
   "cell_type": "code",
   "execution_count": 44,
   "metadata": {},
   "outputs": [
    {
     "name": "stdout",
     "output_type": "stream",
     "text": [
      "Tamaño del conjunto de entrenamiento: (1928, 4)\n",
      "Tamaño del conjunto de validación: (643, 4)\n",
      "Tamaño del conjunto de prueba: (643, 4)\n"
     ]
    }
   ],
   "source": [
    "from sklearn.model_selection import train_test_split\n",
    "\n",
    "# Separar características y objetivo\n",
    "features = df.drop('is_ultra', axis=1)\n",
    "target = df['is_ultra']\n",
    "\n",
    "# Dividir los datos en conjunto de entrenamiento y conjunto temporal a\n",
    "features_train, features_temp, target_train, target_temp = train_test_split(\n",
    "    features, target, test_size=0.4, random_state=12345)\n",
    "\n",
    "# Dividir el conjunto temporal en conjunto de validación y conjunto de prueba\n",
    "features_valid, features_test, target_valid, target_test = train_test_split(\n",
    "    features_temp, target_temp, test_size=0.5, random_state=12345)\n",
    "\n",
    "# Verificar las dimensiones de los conjuntos\n",
    "print(\"Tamaño del conjunto de entrenamiento:\", features_train.shape)\n",
    "print(\"Tamaño del conjunto de validación:\", features_valid.shape)\n",
    "print(\"Tamaño del conjunto de prueba:\", features_test.shape)"
   ]
  },
  {
   "cell_type": "markdown",
   "metadata": {},
   "source": [
    "<div class=\"alert alert-block alert-success\"> \n",
    "<b>Comentario del Revisor #1</b> <a class=\"tocSkip\"></a>\n",
    "\n",
    "Excelente! Has dividido correctamente los datos en tres conjuntos: _train_, _validation_ y _test_. Dividir los datos de esta forma permite entrenar el modelo en un conjunto, validar su desempeño en otro y finalmente evaluarlo en un conjunto independiente para obtener una medida precisa de su rendimiento.\n",
    "\n",
    "</div>\n",
    "\n",
    "<div class=\"alert alert-block alert-success\"> \n",
    "<b>Comentario del Revisor #1</b> <a class=\"tocSkip\"></a>\n",
    "\n",
    "Has utilizado correctamente _train_test_split_ dos veces para dividir los datos en tres conjuntos (entrenamiento, validación y prueba). Este método es el más común para dividir los datos de manera aleatoria, asegurando que cada conjunto tenga una representación justa.\n",
    "\n",
    "Además, los tamaños para los conjuntos es el esperado.\n",
    "\n",
    "</div>"
   ]
  },
  {
   "cell_type": "markdown",
   "metadata": {},
   "source": [
    "<h3>Paso 3: Investigar la Calidad de Diferentes Modelos</h3>\n",
    "<p>Probaremos algunos modelos de clasificaci&oacute;n populares&nbsp;</p>\n",
    "<ol>\n",
    "<li><strong>&Aacute;rbol de Decisi&oacute;n</strong></li>\n",
    "<li><strong>Bosque Aleatorio</strong></li>\n",
    "<li><strong>Regresi&oacute;n Log&iacute;stica</strong></li>\n",
    "</ol>"
   ]
  },
  {
   "cell_type": "markdown",
   "metadata": {},
   "source": [
    "<div class=\"alert alert-block alert-success\"> \n",
    "<b>Comentario del Revisor #1</b> <a class=\"tocSkip\"></a>\n",
    "\n",
    "Genial! Consideraste varios modelos para el ajuste. Probar diferentes enfoques es clave en el aprendizaje automático, ya que diferentes modelos pueden capturar patrones de forma distinta. Comparar varios modelos te asegura que encuentres el que mejor se ajusta a los datos.\n",
    "\n",
    "</div>"
   ]
  },
  {
   "cell_type": "code",
   "execution_count": 46,
   "metadata": {},
   "outputs": [
    {
     "name": "stdout",
     "output_type": "stream",
     "text": [
      "Decision Tree Accuracy: 0.71\n",
      "Random Forest Accuracy: 0.79\n",
      "Logistic Regression Accuracy: 0.71\n"
     ]
    }
   ],
   "source": [
    "from sklearn.tree import DecisionTreeClassifier\n",
    "from sklearn.ensemble import RandomForestClassifier\n",
    "from sklearn.linear_model import LogisticRegression\n",
    "from sklearn.metrics import accuracy_score\n",
    "\n",
    "# Inicializar modelos\n",
    "models = {\n",
    "    \"Decision Tree\": DecisionTreeClassifier(random_state=12345),\n",
    "    \"Random Forest\": RandomForestClassifier(random_state=12345),\n",
    "    \"Logistic Regression\": LogisticRegression(random_state=12345, max_iter=1000)\n",
    "}\n",
    "\n",
    "# Evaluar cada modelo\n",
    "for model_name, model in models.items():\n",
    "    # Entrenar el modelo\n",
    "    model.fit(features_train, target_train)\n",
    "    # Predecir en el conjunto de validación\n",
    "    predictions_valid = model.predict(features_valid)\n",
    "    # Calcular la precisión\n",
    "    accuracy = accuracy_score(target_valid, predictions_valid)\n",
    "    print(f\"{model_name} Accuracy: {accuracy:.2f}\")\n"
   ]
  },
  {
   "cell_type": "markdown",
   "metadata": {},
   "source": [
    "<div class=\"alert alert-block alert-success\"> \n",
    "<b>Comentario del Revisor #1</b> <a class=\"tocSkip\"></a>\n",
    "\n",
    "Muy bien! Has entrenado el modelo únicamente con el conjunto de entrenamiento, lo que es exactamente lo que se debe hacer. Este conjunto contiene los datos con los que el modelo aprende los patrones, y no debe utilizar otros conjuntos durante el entrenamiento.\n",
    "\n",
    "También has validado correctamente el modelo utilizando solo el conjunto de validación. Esta es una práctica esencial para ajustar los hiperparámetros y comparar diferentes modelos sin introducir sesgos.\n",
    "    \n",
    "</div>"
   ]
  },
  {
   "cell_type": "markdown",
   "metadata": {},
   "source": [
    "<p><span style=\"color: #00ff00;\">Explicaci&oacute;n:</span></p>\n",
    "<ul>\n",
    "<li><strong>&Aacute;rbol de Decisi&oacute;n</strong>: Un modelo simple pero efectivo que puede capturar relaciones no lineales.</li>\n",
    "<li><strong>Bosque Aleatorio</strong>: Un conjunto de &aacute;rboles de decisi&oacute;n que mejora la precisi&oacute;n y la robustez del modelo.</li>\n",
    "<li><strong>Regresi&oacute;n Log&iacute;stica</strong>: Un modelo lineal que es r&aacute;pido de entrenar y f&aacute;cil de interpretar.</li>\n",
    "</ul>\n",
    "<p>Con base en los resultados obtenidos, parece que el modelo de <strong>Bosque Aleatorio</strong> ofrece el mejor rendimiento inicial con una precisi&oacute;n del 79% en el conjunto de validaci&oacute;n. A continuaci&oacute;n, podemos centrarnos en mejorar este modelo mediante el ajuste de sus hiperpar&aacute;metros</p>"
   ]
  },
  {
   "cell_type": "markdown",
   "metadata": {},
   "source": [
    "<h3>Paso 4: Ajuste de Hiperpar&aacute;metros para el Bosque Aleatorio</h3>\n",
    "<p>El ajuste de hiperpar&aacute;metros nos permite optimizar el rendimiento del modelo ajustando par&aacute;metros como el n&uacute;mero de &aacute;rboles en el bosque, la profundidad m&aacute;xima de cada &aacute;rbol, etc</p>\n",
    "<p>&nbsp;</p>"
   ]
  },
  {
   "cell_type": "markdown",
   "metadata": {},
   "source": [
    "<div class=\"alert alert-block alert-warning\"> \n",
    "<b>Comentario del Revisor #1</b> <a class=\"tocSkip\"></a>\n",
    "\n",
    "Realmente, lo ideal es hacer un ajuste de parámetros con todos los modelos. Ya que un modelo base puede ser mejor que otro, pero con el ajuste adecuado esto cambia.\n",
    "\n",
    "</div>"
   ]
  },
  {
   "cell_type": "markdown",
   "metadata": {},
   "source": [
    "<div class=\"alert alert-block alert-success\"> \n",
    "<b>Comentario del Revisor #1</b> <a class=\"tocSkip\"></a>\n",
    "\n",
    "Muy bien hecho! Has ajustado al menos tres hiperparámetros, lo que es una excelente práctica. Ajustar los hiperparámetros permite optimizar el modelo para obtener el mejor rendimiento posible.\n",
    "\n",
    "</div>"
   ]
  },
  {
   "cell_type": "code",
   "execution_count": 47,
   "metadata": {},
   "outputs": [
    {
     "name": "stdout",
     "output_type": "stream",
     "text": [
      "n_estimators: 50, max_depth: None, Accuracy: 0.79\n",
      "n_estimators: 50, max_depth: 10, Accuracy: 0.79\n",
      "n_estimators: 50, max_depth: 20, Accuracy: 0.79\n",
      "n_estimators: 100, max_depth: None, Accuracy: 0.79\n",
      "n_estimators: 100, max_depth: 10, Accuracy: 0.79\n",
      "n_estimators: 100, max_depth: 20, Accuracy: 0.79\n",
      "n_estimators: 200, max_depth: None, Accuracy: 0.79\n",
      "n_estimators: 200, max_depth: 10, Accuracy: 0.79\n",
      "n_estimators: 200, max_depth: 20, Accuracy: 0.79\n",
      "Mejores hiperparámetros: {'n_estimators': 100, 'max_depth': 10}\n",
      "Mejor precisión en validación: 0.7947122861586314\n"
     ]
    }
   ],
   "source": [
    "from sklearn.ensemble import RandomForestClassifier\n",
    "from sklearn.metrics import accuracy_score\n",
    "\n",
    "# Definir rangos de hiperparámetros\n",
    "n_estimators_options = [50, 100, 200]\n",
    "max_depth_options = [None, 10, 20]\n",
    "\n",
    "# Variable para almacenar el mejor resultado\n",
    "best_accuracy = 0\n",
    "best_params = {}\n",
    "\n",
    "# Probar diferentes combinaciones de hiperparámetros\n",
    "for n_estimators in n_estimators_options:\n",
    "    for max_depth in max_depth_options:\n",
    "        # Definir el modelo con los hiperparámetros actuales\n",
    "        model = RandomForestClassifier(n_estimators=n_estimators, max_depth=max_depth, random_state=12345)\n",
    "        # Entrenar el modelo\n",
    "        model.fit(features_train, target_train)\n",
    "        # Predecir en el conjunto de validación\n",
    "        predictions_valid = model.predict(features_valid)\n",
    "        # Calcular la precisión\n",
    "        accuracy = accuracy_score(target_valid, predictions_valid)\n",
    "        print(f\"n_estimators: {n_estimators}, max_depth: {max_depth}, Accuracy: {accuracy:.2f}\")\n",
    "        \n",
    "        # Actualizar el mejor modelo si es necesario\n",
    "        if accuracy > best_accuracy:\n",
    "            best_accuracy = accuracy\n",
    "            best_params = {'n_estimators': n_estimators, 'max_depth': max_depth}\n",
    "\n",
    "# Mostrar los mejores hiperparámetros\n",
    "print(\"Mejores hiperparámetros:\", best_params)\n",
    "print(\"Mejor precisión en validación:\", best_accuracy)\n"
   ]
  },
  {
   "cell_type": "markdown",
   "metadata": {},
   "source": [
    "<p><span style=\"color: #00ff00;\">Explicaci&oacute;n:</span></p>\n",
    "<ul>\n",
    "<li><strong>Bucle Manual</strong>: Probamos manualmente diferentes combinaciones de&nbsp;<code data-code-tools=\"\">n_estimators</code>&nbsp;y&nbsp;<code data-code-tools=\"\">max_depth</code>.</li>\n",
    "<li><strong>Selecci&oacute;n del Mejor Modelo</strong>: Almacenamos la mejor precisi&oacute;n obtenida y los hiperpar&aacute;metros correspondientes.</li>\n",
    "</ul>"
   ]
  },
  {
   "cell_type": "markdown",
   "metadata": {},
   "source": [
    "<div class=\"alert alert-block alert-success\"> \n",
    "<b>Comentario del Revisor #1</b> <a class=\"tocSkip\"></a>\n",
    "\n",
    "Has documentado los resultados de manera clara, lo que es crucial para comunicar los hallazgos y justificar la elección del mejor modelo. Explicar el razonamiento detrás de tus decisiones es clave para asegurar que los resultados sean interpretados correctamente.\n",
    "\n",
    "</div>"
   ]
  },
  {
   "cell_type": "markdown",
   "metadata": {},
   "source": [
    "<h3>Evaluaci&oacute;n en el Conjunto de Prueba</h3>\n",
    "<p>Usaremos los mejores hiperpar&aacute;metros encontrados (<code data-code-tools=\"\">n_estimators = 100</code> y <code data-code-tools=\"\">max_depth = 10</code>) para entrenar el modelo completo y luego evaluarlo en el conjunto de prueba.</p>"
   ]
  },
  {
   "cell_type": "code",
   "execution_count": 49,
   "metadata": {},
   "outputs": [
    {
     "name": "stdout",
     "output_type": "stream",
     "text": [
      "Precisión en el conjunto de prueba: 0.81\n"
     ]
    }
   ],
   "source": [
    "# Entrenar el modelo con los mejores hiperparámetros\n",
    "best_model = RandomForestClassifier(n_estimators=100, max_depth=10, random_state=12345)\n",
    "best_model.fit(features_train, target_train)\n",
    "\n",
    "# Predecir en el conjunto de prueba\n",
    "predictions_test = best_model.predict(features_test)\n",
    "\n",
    "# Calcular la precisión en el conjunto de prueba\n",
    "accuracy_test = accuracy_score(target_test, predictions_test)\n",
    "print(f\"Precisión en el conjunto de prueba: {accuracy_test:.2f}\")\n"
   ]
  },
  {
   "cell_type": "markdown",
   "metadata": {},
   "source": [
    "<div class=\"alert alert-block alert-success\"> \n",
    "<b>Comentario del Revisor #1</b> <a class=\"tocSkip\"></a>\n",
    "\n",
    "Perfecto! Testeaste el modelo correctamente utilizando el conjunto de test en la última etapa. Esto asegura que el modelo se evalúe con datos completamente nuevos, proporcionando una estimación precisa de su rendimiento real.\n",
    "\n",
    "Has logrado una precisión (_accuracy_) superior al 0.75! \n",
    "\n",
    "</div>"
   ]
  },
  {
   "cell_type": "markdown",
   "metadata": {},
   "source": [
    "<p><span style=\"color: #00ff00;\">Explicaci&oacute;n:</span></p>\n",
    "<ul>\n",
    "<li><strong>Entrenamiento Completo</strong>: Entrenamos el modelo usando todo el conjunto de entrenamiento con los mejores hiperpar&aacute;metros.</li>\n",
    "<li><strong>Evaluaci&oacute;n en Prueba</strong>: Calculamos la precisi&oacute;n del modelo en el conjunto de prueba para verificar su rendimiento.</li>\n",
    "</ul>"
   ]
  },
  {
   "cell_type": "markdown",
   "metadata": {},
   "source": [
    "<h3>C&aacute;lculo del EMC</h3>"
   ]
  },
  {
   "cell_type": "markdown",
   "metadata": {},
   "source": [
    "<div class=\"alert alert-block alert-warning\"> \n",
    "<b>Comentario del Revisor #1</b> <a class=\"tocSkip\"></a>\n",
    "\n",
    "Cuál es el propósito de este bloque? Recuerda dejarlo claro, tanto el enunciado como tus conclusiones.\n",
    "\n",
    "</div>"
   ]
  },
  {
   "cell_type": "code",
   "execution_count": 50,
   "metadata": {},
   "outputs": [
    {
     "name": "stdout",
     "output_type": "stream",
     "text": [
      "Error Medio Cuadrático (EMC): 0.19\n"
     ]
    }
   ],
   "source": [
    "from sklearn.metrics import mean_squared_error\n",
    "\n",
    "# Calcular el EMC\n",
    "emc = mean_squared_error(target_test, predictions_test)\n",
    "print(f\"Error Medio Cuadrático (EMC): {emc:.2f}\")\n"
   ]
  },
  {
   "cell_type": "markdown",
   "metadata": {},
   "source": [
    "\n",
    "<div class=\"alert alert-block alert-success\"> \n",
    "<b>Comentario del Revisor #1</b> <a class=\"tocSkip\"></a>\n",
    "\n",
    "Felicidades Carlos! Tu trabajo es excelente \n",
    "\n",
    "Has completado todos los items necesarios para aprobar la entrega.\n",
    "\n",
    "</div>"
   ]
  }
 ],
 "metadata": {
  "ExecuteTimeLog": [
   {
    "duration": 161,
    "start_time": "2024-11-14T16:51:05.828Z"
   },
   {
    "duration": 334,
    "start_time": "2024-11-14T16:51:15.740Z"
   },
   {
    "duration": 386,
    "start_time": "2024-11-14T16:51:16.309Z"
   },
   {
    "duration": 12,
    "start_time": "2024-11-14T16:51:16.948Z"
   },
   {
    "duration": 64,
    "start_time": "2024-11-14T16:53:48.025Z"
   },
   {
    "duration": 59,
    "start_time": "2024-11-14T16:54:03.223Z"
   },
   {
    "duration": 2288,
    "start_time": "2024-11-14T16:55:45.556Z"
   },
   {
    "duration": 98,
    "start_time": "2024-11-14T16:55:53.267Z"
   },
   {
    "duration": 125,
    "start_time": "2024-11-14T16:58:31.219Z"
   },
   {
    "duration": 63,
    "start_time": "2024-11-14T16:58:42.556Z"
   },
   {
    "duration": 2,
    "start_time": "2024-11-14T16:58:45.110Z"
   },
   {
    "duration": 62,
    "start_time": "2024-11-14T16:58:45.751Z"
   },
   {
    "duration": 60,
    "start_time": "2024-11-14T16:59:01.362Z"
   },
   {
    "duration": 3,
    "start_time": "2024-11-14T16:59:09.613Z"
   },
   {
    "duration": 59,
    "start_time": "2024-11-14T16:59:10.637Z"
   },
   {
    "duration": 59,
    "start_time": "2024-11-14T16:59:37.035Z"
   },
   {
    "duration": 60,
    "start_time": "2024-11-14T17:00:51.314Z"
   },
   {
    "duration": 61,
    "start_time": "2024-11-14T17:01:54.484Z"
   },
   {
    "duration": 26,
    "start_time": "2024-11-14T17:03:18.200Z"
   },
   {
    "duration": 20,
    "start_time": "2024-11-14T17:03:43.224Z"
   },
   {
    "duration": 5,
    "start_time": "2024-11-14T17:04:03.099Z"
   },
   {
    "duration": 32,
    "start_time": "2024-11-14T17:08:51.945Z"
   },
   {
    "duration": 148,
    "start_time": "2024-11-14T17:10:32.079Z"
   },
   {
    "duration": 446,
    "start_time": "2024-11-14T17:11:21.448Z"
   },
   {
    "duration": 317,
    "start_time": "2024-11-14T17:11:48.083Z"
   },
   {
    "duration": 77,
    "start_time": "2024-11-14T17:12:52.529Z"
   },
   {
    "duration": 25,
    "start_time": "2024-11-14T17:13:01.798Z"
   },
   {
    "duration": 7,
    "start_time": "2024-11-14T17:14:53.898Z"
   },
   {
    "duration": 342,
    "start_time": "2024-11-14T17:19:58.105Z"
   },
   {
    "duration": 37074,
    "start_time": "2024-11-14T17:23:14.263Z"
   },
   {
    "duration": 3003,
    "start_time": "2024-11-14T17:25:58.365Z"
   },
   {
    "duration": 258,
    "start_time": "2024-11-14T17:27:25.976Z"
   },
   {
    "duration": 8,
    "start_time": "2024-11-14T17:29:47.350Z"
   },
   {
    "duration": 3,
    "start_time": "2024-11-14T17:31:25.999Z"
   },
   {
    "duration": 401,
    "start_time": "2024-11-14T17:34:27.768Z"
   },
   {
    "duration": 4,
    "start_time": "2024-11-14T17:35:27.886Z"
   },
   {
    "duration": 18,
    "start_time": "2024-11-14T17:36:57.218Z"
   },
   {
    "duration": 63,
    "start_time": "2024-11-14T18:00:00.844Z"
   },
   {
    "duration": 18,
    "start_time": "2024-11-14T18:00:06.997Z"
   },
   {
    "duration": 7,
    "start_time": "2024-11-14T18:02:16.123Z"
   },
   {
    "duration": 25,
    "start_time": "2024-11-14T18:04:18.681Z"
   },
   {
    "duration": 374,
    "start_time": "2024-11-14T18:05:19.776Z"
   },
   {
    "duration": 3110,
    "start_time": "2024-11-14T18:09:43.470Z"
   },
   {
    "duration": 5,
    "start_time": "2024-11-14T18:13:16.180Z"
   },
   {
    "duration": 258,
    "start_time": "2024-11-14T18:13:34.665Z"
   },
   {
    "duration": 3,
    "start_time": "2024-11-14T18:17:14.235Z"
   },
   {
    "duration": 56,
    "start_time": "2024-11-14T18:18:23.195Z"
   },
   {
    "duration": 5,
    "start_time": "2024-11-14T18:18:43.886Z"
   },
   {
    "duration": 9,
    "start_time": "2024-11-15T13:56:15.673Z"
   }
  ],
  "kernelspec": {
   "display_name": "Python 3 (ipykernel)",
   "language": "python",
   "name": "python3"
  },
  "language_info": {
   "codemirror_mode": {
    "name": "ipython",
    "version": 3
   },
   "file_extension": ".py",
   "mimetype": "text/x-python",
   "name": "python",
   "nbconvert_exporter": "python",
   "pygments_lexer": "ipython3",
   "version": "3.9.19"
  },
  "toc": {
   "base_numbering": 1,
   "nav_menu": {},
   "number_sections": true,
   "sideBar": true,
   "skip_h1_title": true,
   "title_cell": "Table of Contents",
   "title_sidebar": "Contents",
   "toc_cell": false,
   "toc_position": {},
   "toc_section_display": true,
   "toc_window_display": false
  }
 },
 "nbformat": 4,
 "nbformat_minor": 2
}
